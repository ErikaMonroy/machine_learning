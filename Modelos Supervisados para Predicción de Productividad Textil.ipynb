{
 "cells": [
  {
   "cell_type": "markdown",
   "id": "85fecc1f",
   "metadata": {},
   "source": [
    "# Machine Learning\n",
    "## Componente práctico - Regresión logística \n",
    "**18 - 04 - 2024**"
   ]
  },
  {
   "cell_type": "markdown",
   "id": "06f3783c",
   "metadata": {},
   "source": [
    "## Introducción\n",
    "\n",
    "En este trabajo, se aplicaron varios modelos de aprendizaje automático para predecir la productividad en un entorno de confección textil. Se exploraron modelos lineales, como regresión lineal, modelos logísticos y no lineales como K-NN y árboles de decisión (CART). El objetivo fue evaluar la capacidad de estos modelos para predecir el nivel de productividad de los equipos de confección en función del número de trabajadores y el tiempo extra.\n",
    "\n",
    "Además de los modelos lineales, se exploraron enfoques más avanzados como el modelo logístico, el método de los k vecinos más cercanos (K-NN) y los árboles de decisión, específicamente utilizando el algoritmo CART. Estos modelos ofrecen la capacidad de capturar relaciones no lineales y patrones complejos en los datos, lo que podría mejorar la precisión de las predicciones en comparación con los enfoques lineales más simples. La aplicación de estos modelos proporcionará una visión más completa de la capacidad predictiva para la productividad en el entorno de confección textil."
   ]
  },
  {
   "cell_type": "markdown",
   "id": "0bdd6412",
   "metadata": {},
   "source": [
    "## La actividad consiste en: \n",
    "\n",
    "Usar la base de datos “Anexo 2 - productividad_confeccion.csv”,para aplicar modelos supervisados de machine learning.\n",
    "Tenga en cuenta que debe realizar toda la actividad en Python.\n",
    "\n",
    "### Contexto de la base de datos: \n",
    "\n",
    "La industria de la confección es uno de los ejemplos clave de la globalización industrial en esta era moderna. Es una industria altamente intensiva en mano de obra con muchos procesos manuales. Satisfacer la enorme demanda global de productos de confección depende en gran medida del desempeño de producción y entrega de los empleados en las empresas de fabricación de prendas. Por lo tanto, es altamente deseable entre los tomadores de decisiones en la industria de la confección rastrear, analizar y predecir el rendimiento de productividad de los equipos de trabajo en sus fábricas.\n",
    "\n",
    "### La data contiene información de las variables:\n",
    "\n",
    "- **date**: Fecha en MM-DD-YYYY\n",
    "- **day**: Día de la semana.\n",
    "- **quarter**: Cuarto del mes. Un mes se dividió en cuatro partes.\n",
    "- **department**: Departamento asociado a la instancia\n",
    "- **team_no**: Número de equipo asociado con la instancia\n",
    "- **no_of_workers**: Número de trabajadores en cada equipo.\n",
    "- **no_of_style_change**: Número de cambios en el estilo de un producto.\n",
    "- **targeted_productivity**: Productividad objetivo establecida por la Autoridad para cada equipo en cada día.\n",
    "- **smv**: Valor Minuto Estándar, es el tiempo asignado para una tarea.\n",
    "- **wip**: Trabajo en progreso. Incluye la cantidad de elementos sin terminar por productos.\n",
    "- **over_time**: Representa la cantidad de tiempo extra de cada equipo en minutos.\n",
    "- **incentive**: Representa la cantidad de incentivo financiero (en BDT) que permite o motiva un curso de acción particular.\n",
    "- **idle_time**: La cantidad de tiempo que la producción estuvo interrumpida por varias razones.\n",
    "- **idle_men**: El número de trabajadores que estuvieron inactivos debido a la interrupción de la producción.\n",
    "- **actual_productivity**: Porcentaje real de productividad que entregaron los trabajadores."
   ]
  },
  {
   "cell_type": "markdown",
   "id": "f869a91a",
   "metadata": {},
   "source": [
    "## Acción 1: Aplicación modelos lineales.\n",
    "\n",
    "1. Seleccionar una base de entrenamiento (80%) y una base de prueba (20%)."
   ]
  },
  {
   "cell_type": "code",
   "execution_count": 7,
   "id": "58138dd6",
   "metadata": {},
   "outputs": [
    {
     "name": "stdout",
     "output_type": "stream",
     "text": [
      "Tamaño del conjunto de entrenamiento: 940 registros\n",
      "Tamaño del conjunto de prueba: 236 registros\n"
     ]
    }
   ],
   "source": [
    "# Importación de la biblioteca pandas\n",
    "import pandas as pd\n",
    "\n",
    "# Definir la ruta del archivo CSV\n",
    "file_path = r'D:\\Erika Monroy\\Desarrollo\\Machine Learning\\Fase 3\\Anexo 2 - productividad_confeccion.csv'\n",
    "\n",
    "# Cargar los datos desde el archivo CSV\n",
    "data = pd.read_csv(file_path)\n",
    "\n",
    "# Importar la biblioteca necesaria para la división de datos\n",
    "from sklearn.model_selection import train_test_split\n",
    "\n",
    "# Definir las variables independientes y la variable dependiente\n",
    "X = data[['no_of_workers', 'over_time']]  # Características: número de trabajadores y tiempo extra\n",
    "y = data['actual_productivity']  # Etiqueta: productividad real\n",
    "\n",
    "# Dividir los datos en conjuntos de entrenamiento y prueba (80% entrenamiento, 20% prueba)\n",
    "X_train, X_test, y_train, y_test = train_test_split(X, y, test_size=0.2, random_state=42)\n",
    "\n",
    "# Mostrar el tamaño de cada conjunto para confirmar la división\n",
    "print(f'Tamaño del conjunto de entrenamiento: {X_train.shape[0]} registros')\n",
    "print(f'Tamaño del conjunto de prueba: {X_test.shape[0]} registros')"
   ]
  },
  {
   "cell_type": "markdown",
   "id": "0c45068b",
   "metadata": {},
   "source": [
    "2. Con la base de entrenamiento aplicar un modelo de regresión lineal para predecir la productividad real a partir del número de trabajadores de cada equipo y el tiempo extra en minutos."
   ]
  },
  {
   "cell_type": "code",
   "execution_count": 8,
   "id": "0cfec9fd",
   "metadata": {},
   "outputs": [
    {
     "name": "stdout",
     "output_type": "stream",
     "text": [
      "Intercepto: -0.16316756393606113\n",
      "Coeficientes: [ 3.24340648e-02 -3.91758642e-06]\n",
      "Matriz de correlaciones:\n",
      "                      no_of_workers  over_time  actual_productivity\n",
      "no_of_workers             1.000000   0.035871             0.920063\n",
      "over_time                 0.035871   1.000000            -0.044324\n",
      "actual_productivity       0.920063  -0.044324             1.000000\n",
      "\n",
      "Error cuadrático medio en el conjunto de entrenamiento: 0.004464122954274284\n",
      "Coeficiente de determinación (R²) en el conjunto de entrenamiento: 0.8544566948281984\n"
     ]
    }
   ],
   "source": [
    "import numpy as np\n",
    "from sklearn.linear_model import LinearRegression\n",
    "from sklearn.metrics import mean_squared_error, r2_score\n",
    "\n",
    "# Entrenar el modelo de regresión lineal\n",
    "model = LinearRegression()\n",
    "model.fit(X_train, y_train)\n",
    "\n",
    "# Predecir la productividad en el conjunto de entrenamiento\n",
    "y_train_pred = model.predict(X_train)\n",
    "\n",
    "# Calcular el error cuadrático medio y R² en el conjunto de entrenamiento\n",
    "mse = mean_squared_error(y_train, y_train_pred)\n",
    "r2 = r2_score(y_train, y_train_pred)\n",
    "\n",
    "# Mostrar los coeficientes del modelo\n",
    "print(\"Intercepto:\", model.intercept_)\n",
    "print(\"Coeficientes:\", model.coef_)\n",
    "\n",
    "# Calcular y mostrar la matriz de correlaciones\n",
    "correlation_matrix = data[['no_of_workers', 'over_time', 'actual_productivity']].corr()\n",
    "print(\"Matriz de correlaciones:\\n\", correlation_matrix)\n",
    "\n",
    "# Mostrar MSE y R²\n",
    "print(\"\\nError cuadrático medio en el conjunto de entrenamiento:\", mse)\n",
    "print(\"Coeficiente de determinación (R²) en el conjunto de entrenamiento:\", r2)"
   ]
  },
  {
   "cell_type": "markdown",
   "id": "0c1b601a",
   "metadata": {},
   "source": [
    "3. Realizar las predicciones sobre la base de prueba."
   ]
  },
  {
   "cell_type": "code",
   "execution_count": 9,
   "id": "7c868d22",
   "metadata": {
    "scrolled": true
   },
   "outputs": [
    {
     "name": "stdout",
     "output_type": "stream",
     "text": [
      "   Predicción  Valor real\n",
      "0    0.833118    0.850502\n",
      "1    0.848396    0.999995\n",
      "2    0.611489    0.664583\n",
      "3    0.771779    0.793845\n",
      "4    0.770839    0.700623\n",
      "\n",
      "Error cuadrático medio en el conjunto de prueba: 0.004447744262693778\n",
      "Coeficiente de determinación (R²) en el conjunto de prueba: 0.8438244492551976\n"
     ]
    }
   ],
   "source": [
    "# Predecir la productividad en el conjunto de prueba\n",
    "y_test_pred = model.predict(X_test)\n",
    "\n",
    "import pandas as pd\n",
    "import matplotlib.pyplot as plt\n",
    "\n",
    "# Crear un DataFrame para comparar las predicciones con los valores reales\n",
    "comparison_df = pd.DataFrame({'Predicción': y_test_pred, 'Valor real': y_test})\n",
    "comparison_df = comparison_df.reset_index(drop=True)\n",
    "\n",
    "# Mostrar las primeras filas del DataFrame para comparar visualmente\n",
    "print(comparison_df.head())\n",
    "\n",
    "# Calcular y mostrar el MSE y R² en el conjunto de prueba\n",
    "mse_test = mean_squared_error(y_test, y_test_pred)\n",
    "r2_test = r2_score(y_test, y_test_pred)\n",
    "print(\"\\nError cuadrático medio en el conjunto de prueba:\", mse_test)\n",
    "print(\"Coeficiente de determinación (R²) en el conjunto de prueba:\", r2_test)"
   ]
  },
  {
   "cell_type": "markdown",
   "id": "f6774ef7",
   "metadata": {},
   "source": [
    "4. Con los resultados del ítem anterior, realizar un diagrama de dispersión, en el eje X ubicar los valores predichos y en el eje Y ubicar los valores de productividad real."
   ]
  },
  {
   "cell_type": "code",
   "execution_count": 10,
   "id": "11171aa8",
   "metadata": {},
   "outputs": [
    {
     "data": {
      "image/png": "[encoded data removed]",
      "text/plain": [
       "<Figure size 1000x600 with 1 Axes>"
      ]
     },
     "metadata": {},
     "output_type": "display_data"
    }
   ],
   "source": [
    "import matplotlib.pyplot as plt\n",
    "\n",
    "# Crear un gráfico de dispersión\n",
    "plt.figure(figsize=(10, 6))\n",
    "# Valores reales como cruces rojas más grandes y más opacas para destacarlos\n",
    "plt.scatter(y_test_pred, y_test, color='red', marker='x', s=100, alpha=0.7, label='Valores Reales')\n",
    "# Predicciones como puntos azules\n",
    "plt.scatter(y_test_pred, y_test, color='blue', marker='o', s=50, alpha=0.5, label='Predicciones')\n",
    "\n",
    "# Línea de identidad\n",
    "plt.plot([y_test.min(), y_test.max()], [y_test.min(), y_test.max()], 'k--', lw=2)\n",
    "\n",
    "# Mejoras visuales\n",
    "plt.title('Comparación de Valores Predichos vs. Valores Reales')\n",
    "plt.xlabel('Valores Predichos')\n",
    "plt.ylabel('Valores Reales de Productividad')\n",
    "plt.legend()\n",
    "plt.grid(True)  # Añadir una cuadrícula para mejorar la precisión visual\n",
    "plt.tight_layout()  # Ajustar automáticamente los parámetros para dar espacio a la leyenda\n",
    "\n",
    "plt.show()\n",
    "import matplotlib.pyplot as plt"
   ]
  },
  {
   "cell_type": "markdown",
   "id": "8c0833bc",
   "metadata": {},
   "source": [
    "## Acción 2: Aplicación modelo logístico.\n",
    "\n",
    "1. Construir la variable ‘nivel_productividad’ con niveles alto y bajo. Considere nivel alto a productividad real > 0.7 y nivel bajo a productividad real <=0.7."
   ]
  },
  {
   "cell_type": "code",
   "execution_count": 17,
   "id": "e807d849",
   "metadata": {},
   "outputs": [
    {
     "name": "stdout",
     "output_type": "stream",
     "text": [
      "   actual_productivity nivel_productividad\n",
      "0             0.940725                Alto\n",
      "1             0.886500                Alto\n",
      "2             0.800570                Alto\n",
      "3             0.800570                Alto\n",
      "4             0.800382                Alto\n",
      "\n",
      "Distribución de la variable 'nivel_productividad':\n",
      "nivel_productividad\n",
      "Alto    814\n",
      "Bajo    362\n",
      "Name: count, dtype: int64\n"
     ]
    }
   ],
   "source": [
    "import pandas as pd\n",
    "\n",
    "# Definir la ruta del archivo CSV\n",
    "file_path = r'D:\\Erika Monroy\\Desarrollo\\Machine Learning\\Fase 3\\Anexo 2 - productividad_confeccion.csv'\n",
    "\n",
    "# Cargar los datos desde el archivo CSV\n",
    "data = pd.read_csv(file_path)\n",
    "\n",
    "# Crear la variable 'nivel_productividad'\n",
    "data['nivel_productividad'] = data['actual_productivity'].apply(lambda x: 'Alto' if x > 0.7 else 'Bajo')\n",
    "\n",
    "# Mostrar las primeras filas para verificar la creación de la nueva columna\n",
    "print(data[['actual_productivity', 'nivel_productividad']].head())\n",
    "\n",
    "# Verificar los conteos de cada nivel de productividad\n",
    "print(\"\\nDistribución de la variable 'nivel_productividad':\")\n",
    "print(data['nivel_productividad'].value_counts())"
   ]
  },
  {
   "cell_type": "markdown",
   "id": "5c90d8c4",
   "metadata": {},
   "source": [
    "2. Con la base de entrenamiento aplicar un modelo de regresión logística para predecir el ‘nivel_productividad’ basado en el número de trabajadores de cada equipo y el tiempo extra en minutos."
   ]
  },
  {
   "cell_type": "code",
   "execution_count": 18,
   "id": "00cd843e",
   "metadata": {},
   "outputs": [
    {
     "name": "stdout",
     "output_type": "stream",
     "text": [
      "Matriz de correlaciones:\n",
      "                     no_of_workers  over_time  actual_productivity\n",
      "no_of_workers             1.000000   0.035871             0.920063\n",
      "over_time                 0.035871   1.000000            -0.044324\n",
      "actual_productivity       0.920063  -0.044324             1.000000\n",
      "\n",
      "Precisión del modelo sobre los datos de entrenamiento: 0.9989361702127659\n"
     ]
    }
   ],
   "source": [
    "import pandas as pd\n",
    "from sklearn.model_selection import train_test_split\n",
    "from sklearn.linear_model import LogisticRegression\n",
    "from sklearn.metrics import accuracy_score\n",
    "\n",
    "# Matriz de correlaciones\n",
    "correlation_matrix = data[['no_of_workers', 'over_time', 'actual_productivity']].corr()\n",
    "print(\"Matriz de correlaciones:\")\n",
    "print(correlation_matrix)\n",
    "\n",
    "# Variable para dividir la Base en Base de Entrenamiento y la Base de Prueba (80% - 20%)\n",
    "train_data, test_data = train_test_split(data, test_size=0.2, random_state=42)\n",
    "\n",
    "# Definir las características (features) y la variable objetivo para la regresión logística\n",
    "X_train = train_data[['no_of_workers', 'over_time']]\n",
    "y_train = train_data['nivel_productividad']\n",
    "\n",
    "# Inicializar y entrenar el modelo de regresión logística\n",
    "logistic_model = LogisticRegression()\n",
    "logistic_model.fit(X_train, y_train)\n",
    "\n",
    "# Para realizar predicciones sobre la base de entrenamiento\n",
    "y_train_pred = logistic_model.predict(X_train)\n",
    "\n",
    "# Se calcular la precisión (accuracy) sobre los datos de entrenamiento\n",
    "accuracy_train = accuracy_score(y_train, y_train_pred)\n",
    "print(\"\\nPrecisión del modelo sobre los datos de entrenamiento:\", accuracy_train)"
   ]
  },
  {
   "cell_type": "markdown",
   "id": "6e5c01f1",
   "metadata": {},
   "source": [
    "3. Realizar las predicciones sobre la base de prueba. Calcule la precisión (accuracy) sobre los datos de prueba."
   ]
  },
  {
   "cell_type": "code",
   "execution_count": 19,
   "id": "73313c57",
   "metadata": {},
   "outputs": [
    {
     "name": "stdout",
     "output_type": "stream",
     "text": [
      "\n",
      "Precisión del modelo sobre los datos de prueba: 1.0\n"
     ]
    }
   ],
   "source": [
    "# Extraer las características y la variable objetivo del conjunto de prueba\n",
    "X_test = test_data[['no_of_workers', 'over_time']]\n",
    "y_test = test_data['nivel_productividad']\n",
    "\n",
    "# Realizar las predicciones sobre la base de prueba\n",
    "y_test_pred = logistic_model.predict(X_test)\n",
    "\n",
    "# Calcular la precisión de las predicciones sobre los datos de prueba\n",
    "accuracy_test = accuracy_score(y_test, y_test_pred)\n",
    "print(\"\\nPrecisión del modelo sobre los datos de prueba:\", accuracy_test)"
   ]
  },
  {
   "cell_type": "markdown",
   "id": "100c2e1d",
   "metadata": {},
   "source": [
    "## Acción 3: Aplicación K-NN.\n",
    "\n",
    "1. Con la base de entrenamiento, aplicar un modelo KNN de aprendizaje automático que pueda aprender del número de trabajadores de cada equipo y el tiempo extra en minutos, para predecir “nivel_productividad”."
   ]
  },
  {
   "cell_type": "code",
   "execution_count": 20,
   "id": "9c2467e9",
   "metadata": {},
   "outputs": [
    {
     "name": "stdout",
     "output_type": "stream",
     "text": [
      "\n",
      "Precisión del modelo KNN sobre los datos de prueba: 0.9152542372881356\n",
      "Recall del modelo KNN sobre los datos de prueba: 0.9817073170731707\n",
      "F1-score del modelo KNN sobre los datos de prueba: 0.9415204678362574\n"
     ]
    }
   ],
   "source": [
    "from sklearn.neighbors import KNeighborsClassifier\n",
    "from sklearn.metrics import precision_score, recall_score, f1_score\n",
    "\n",
    "# Inicializar y entrenar el modelo KNN\n",
    "knn_model = KNeighborsClassifier(n_neighbors=5)\n",
    "knn_model.fit(X_train, y_train)\n",
    "\n",
    "# Realizar predicciones sobre la base de prueba con el modelo KNN\n",
    "y_test_pred_knn = knn_model.predict(X_test)\n",
    "\n",
    "# Calcular la precisión (accuracy) sobre los datos de prueba\n",
    "accuracy_test_knn = accuracy_score(y_test, y_test_pred_knn)\n",
    "print(\"\\nPrecisión del modelo KNN sobre los datos de prueba:\", accuracy_test_knn)\n",
    "\n",
    "# Calcular el Recall del modelo KNN sobre los datos de prueba\n",
    "recall_test_knn = recall_score(y_test, y_test_pred_knn, pos_label='Alto')  # Considerando 'Alto' como la clase positiva\n",
    "print(\"Recall del modelo KNN sobre los datos de prueba:\", recall_test_knn)\n",
    "\n",
    "# Calcular el F1-score del modelo KNN sobre los datos de prueba\n",
    "f1_score_test_knn = f1_score(y_test, y_test_pred_knn, pos_label='Alto')  # Considerando 'Alto' como la clase positiva\n",
    "print(\"F1-score del modelo KNN sobre los datos de prueba:\", f1_score_test_knn)"
   ]
  },
  {
   "cell_type": "markdown",
   "id": "9038d82b",
   "metadata": {},
   "source": [
    "2. Realizar las predicciones sobre la base de prueba. Calcule la precisión (accuracy) sobre los datos de prueba."
   ]
  },
  {
   "cell_type": "code",
   "execution_count": 21,
   "id": "c42c6ce7",
   "metadata": {},
   "outputs": [
    {
     "name": "stdout",
     "output_type": "stream",
     "text": [
      "\n",
      "Recall del modelo KNN sobre los datos de prueba: 0.9817073170731707\n",
      "Precisión del modelo KNN sobre los datos de prueba: 0.9044943820224719\n",
      "F1-score del modelo KNN sobre los datos de prueba: 0.9415204678362574\n"
     ]
    }
   ],
   "source": [
    "from sklearn.metrics import precision_score, recall_score, f1_score\n",
    "\n",
    "# Calcular el Recall del modelo KNN sobre los datos de prueba\n",
    "recall_test_knn = recall_score(y_test, y_test_pred_knn, pos_label='Alto')  # Considerando 'Alto' como la clase positiva\n",
    "print(\"\\nRecall del modelo KNN sobre los datos de prueba:\", recall_test_knn)\n",
    "\n",
    "# Calcular la Precisión del modelo KNN sobre los datos de prueba\n",
    "precision_test_knn = precision_score(y_test, y_test_pred_knn, pos_label='Alto')  # Considerando 'Alto' como la clase positiva\n",
    "print(\"Precisión del modelo KNN sobre los datos de prueba:\", precision_test_knn)\n",
    "\n",
    "# Calcular el F1-score del modelo KNN sobre los datos de prueba\n",
    "f1_score_test_knn = f1_score(y_test, y_test_pred_knn, pos_label='Alto')  # Considerando 'Alto' como la clase positiva\n",
    "print(\"F1-score del modelo KNN sobre los datos de prueba:\", f1_score_test_knn)"
   ]
  },
  {
   "cell_type": "markdown",
   "id": "89ab4fef",
   "metadata": {},
   "source": [
    "## Acción 4: Aplicación Árboles de decisión (CART).\n",
    "\n",
    "1. Con la base de entrenamiento, aplicar un modelo de árboles de decisión para distinguir “nivel_productividad” bajo y alto usando todas las características."
   ]
  },
  {
   "cell_type": "code",
   "execution_count": 22,
   "id": "0a4150a0",
   "metadata": {},
   "outputs": [
    {
     "name": "stdout",
     "output_type": "stream",
     "text": [
      "Métricas del modelo de Árboles de Decisión sobre los datos de entrenamiento:\n",
      "Precisión: 0.9984639016897081\n",
      "Recall: 1.0\n",
      "F1-score: 0.9992313604919293\n",
      "Accuracy: 0.9989361702127659\n"
     ]
    }
   ],
   "source": [
    "from sklearn.tree import DecisionTreeClassifier\n",
    "from sklearn.metrics import accuracy_score, precision_score, recall_score, f1_score\n",
    "\n",
    "# Crear una instancia del modelo de Árboles de Decisión\n",
    "decision_tree_model = DecisionTreeClassifier(random_state=42)\n",
    "\n",
    "# Entrenar el modelo con todas las características y la variable objetivo\n",
    "decision_tree_model.fit(X_train, y_train)\n",
    "\n",
    "# Realizar predicciones sobre la base de entrenamiento\n",
    "y_train_pred_dt = decision_tree_model.predict(X_train)\n",
    "\n",
    "# Calcular métricas sobre los datos de entrenamiento\n",
    "accuracy_train_dt = accuracy_score(y_train, y_train_pred_dt)\n",
    "precision_train_dt = precision_score(y_train, y_train_pred_dt, pos_label='Alto')\n",
    "recall_train_dt = recall_score(y_train, y_train_pred_dt, pos_label='Alto')\n",
    "f1_score_train_dt = f1_score(y_train, y_train_pred_dt, pos_label='Alto')\n",
    "\n",
    "# Imprimir métricas sobre los datos de entrenamiento\n",
    "print(\"Métricas del modelo de Árboles de Decisión sobre los datos de entrenamiento:\")\n",
    "print(\"Precisión:\", precision_train_dt)\n",
    "print(\"Recall:\", recall_train_dt)\n",
    "print(\"F1-score:\", f1_score_train_dt)\n",
    "print(\"Accuracy:\", accuracy_train_dt)"
   ]
  },
  {
   "cell_type": "markdown",
   "id": "9b75d8a7",
   "metadata": {},
   "source": [
    "2. Usando la función graphviz() visualizar el diagrama de árbol."
   ]
  },
  {
   "cell_type": "code",
   "execution_count": 23,
   "id": "1366ef2f",
   "metadata": {},
   "outputs": [
    {
     "data": {
      "image/svg+xml": [
       "<?xml version=\"1.0\" encoding=\"UTF-8\" standalone=\"no\"?>\n",
       "<!DOCTYPE svg PUBLIC \"-//W3C//DTD SVG 1.1//EN\"\n",
       " \"http://www.w3.org/Graphics/SVG/1.1/DTD/svg11.dtd\">\n",
       "<!-- Generated by graphviz version 2.50.0 (0)\n",
       " -->\n",
       "<!-- Title: Tree Pages: 1 -->\n",
       "<svg width=\"341pt\" height=\"552pt\"\n",
       " viewBox=\"0.00 0.00 341.00 552.00\" xmlns=\"http://www.w3.org/2000/svg\" xmlns:xlink=\"http://www.w3.org/1999/xlink\">\n",
       "<g id=\"graph0\" class=\"graph\" transform=\"scale(1 1) rotate(0) translate(4 548)\">\n",
       "<title>Tree</title>\n",
       "<polygon fill=\"white\" stroke=\"transparent\" points=\"-4,4 -4,-548 337,-548 337,4 -4,4\"/>\n",
       "<!-- 0 -->\n",
       "<g id=\"node1\" class=\"node\">\n",
       "<title>0</title>\n",
       "<polygon fill=\"none\" stroke=\"black\" points=\"207.5,-544 52.5,-544 52.5,-461 207.5,-461 207.5,-544\"/>\n",
       "<text text-anchor=\"middle\" x=\"130\" y=\"-528.8\" font-family=\"Helvetica,sans-Serif\" font-size=\"14.00\">no_of_workers &lt;= 27.5</text>\n",
       "<text text-anchor=\"middle\" x=\"130\" y=\"-513.8\" font-family=\"Helvetica,sans-Serif\" font-size=\"14.00\">gini = 0.427</text>\n",
       "<text text-anchor=\"middle\" x=\"130\" y=\"-498.8\" font-family=\"Helvetica,sans-Serif\" font-size=\"14.00\">samples = 940</text>\n",
       "<text text-anchor=\"middle\" x=\"130\" y=\"-483.8\" font-family=\"Helvetica,sans-Serif\" font-size=\"14.00\">value = [650, 290]</text>\n",
       "<text text-anchor=\"middle\" x=\"130\" y=\"-468.8\" font-family=\"Helvetica,sans-Serif\" font-size=\"14.00\">class = Bajo</text>\n",
       "</g>\n",
       "<!-- 1 -->\n",
       "<g id=\"node2\" class=\"node\">\n",
       "<title>1</title>\n",
       "<polygon fill=\"none\" stroke=\"black\" points=\"110,-417.5 0,-417.5 0,-349.5 110,-349.5 110,-417.5\"/>\n",
       "<text text-anchor=\"middle\" x=\"55\" y=\"-402.3\" font-family=\"Helvetica,sans-Serif\" font-size=\"14.00\">gini = 0.0</text>\n",
       "<text text-anchor=\"middle\" x=\"55\" y=\"-387.3\" font-family=\"Helvetica,sans-Serif\" font-size=\"14.00\">samples = 289</text>\n",
       "<text text-anchor=\"middle\" x=\"55\" y=\"-372.3\" font-family=\"Helvetica,sans-Serif\" font-size=\"14.00\">value = [0, 289]</text>\n",
       "<text text-anchor=\"middle\" x=\"55\" y=\"-357.3\" font-family=\"Helvetica,sans-Serif\" font-size=\"14.00\">class = Alto</text>\n",
       "</g>\n",
       "<!-- 0&#45;&gt;1 -->\n",
       "<g id=\"edge1\" class=\"edge\">\n",
       "<title>0&#45;&gt;1</title>\n",
       "<path fill=\"none\" stroke=\"black\" d=\"M103.98,-460.91C96.76,-449.65 88.92,-437.42 81.67,-426.11\"/>\n",
       "<polygon fill=\"black\" stroke=\"black\" points=\"84.6,-424.2 76.26,-417.67 78.71,-427.97 84.6,-424.2\"/>\n",
       "<text text-anchor=\"middle\" x=\"70.92\" y=\"-438.39\" font-family=\"Helvetica,sans-Serif\" font-size=\"14.00\">True</text>\n",
       "</g>\n",
       "<!-- 2 -->\n",
       "<g id=\"node3\" class=\"node\">\n",
       "<title>2</title>\n",
       "<polygon fill=\"none\" stroke=\"black\" points=\"283.5,-425 128.5,-425 128.5,-342 283.5,-342 283.5,-425\"/>\n",
       "<text text-anchor=\"middle\" x=\"206\" y=\"-409.8\" font-family=\"Helvetica,sans-Serif\" font-size=\"14.00\">no_of_workers &lt;= 30.0</text>\n",
       "<text text-anchor=\"middle\" x=\"206\" y=\"-394.8\" font-family=\"Helvetica,sans-Serif\" font-size=\"14.00\">gini = 0.003</text>\n",
       "<text text-anchor=\"middle\" x=\"206\" y=\"-379.8\" font-family=\"Helvetica,sans-Serif\" font-size=\"14.00\">samples = 651</text>\n",
       "<text text-anchor=\"middle\" x=\"206\" y=\"-364.8\" font-family=\"Helvetica,sans-Serif\" font-size=\"14.00\">value = [650, 1]</text>\n",
       "<text text-anchor=\"middle\" x=\"206\" y=\"-349.8\" font-family=\"Helvetica,sans-Serif\" font-size=\"14.00\">class = Bajo</text>\n",
       "</g>\n",
       "<!-- 0&#45;&gt;2 -->\n",
       "<g id=\"edge2\" class=\"edge\">\n",
       "<title>0&#45;&gt;2</title>\n",
       "<path fill=\"none\" stroke=\"black\" d=\"M156.37,-460.91C162.09,-452.1 168.19,-442.7 174.1,-433.61\"/>\n",
       "<polygon fill=\"black\" stroke=\"black\" points=\"177.17,-435.31 179.68,-425.02 171.3,-431.5 177.17,-435.31\"/>\n",
       "<text text-anchor=\"middle\" x=\"184.87\" y=\"-445.78\" font-family=\"Helvetica,sans-Serif\" font-size=\"14.00\">False</text>\n",
       "</g>\n",
       "<!-- 3 -->\n",
       "<g id=\"node4\" class=\"node\">\n",
       "<title>3</title>\n",
       "<polygon fill=\"none\" stroke=\"black\" points=\"205,-306 63,-306 63,-223 205,-223 205,-306\"/>\n",
       "<text text-anchor=\"middle\" x=\"134\" y=\"-290.8\" font-family=\"Helvetica,sans-Serif\" font-size=\"14.00\">over_time &lt;= 6180.0</text>\n",
       "<text text-anchor=\"middle\" x=\"134\" y=\"-275.8\" font-family=\"Helvetica,sans-Serif\" font-size=\"14.00\">gini = 0.01</text>\n",
       "<text text-anchor=\"middle\" x=\"134\" y=\"-260.8\" font-family=\"Helvetica,sans-Serif\" font-size=\"14.00\">samples = 202</text>\n",
       "<text text-anchor=\"middle\" x=\"134\" y=\"-245.8\" font-family=\"Helvetica,sans-Serif\" font-size=\"14.00\">value = [201, 1]</text>\n",
       "<text text-anchor=\"middle\" x=\"134\" y=\"-230.8\" font-family=\"Helvetica,sans-Serif\" font-size=\"14.00\">class = Bajo</text>\n",
       "</g>\n",
       "<!-- 2&#45;&gt;3 -->\n",
       "<g id=\"edge3\" class=\"edge\">\n",
       "<title>2&#45;&gt;3</title>\n",
       "<path fill=\"none\" stroke=\"black\" d=\"M181.02,-341.91C175.6,-333.1 169.82,-323.7 164.22,-314.61\"/>\n",
       "<polygon fill=\"black\" stroke=\"black\" points=\"167.16,-312.7 158.94,-306.02 161.2,-316.37 167.16,-312.7\"/>\n",
       "</g>\n",
       "<!-- 8 -->\n",
       "<g id=\"node9\" class=\"node\">\n",
       "<title>8</title>\n",
       "<polygon fill=\"none\" stroke=\"black\" points=\"333,-298.5 223,-298.5 223,-230.5 333,-230.5 333,-298.5\"/>\n",
       "<text text-anchor=\"middle\" x=\"278\" y=\"-283.3\" font-family=\"Helvetica,sans-Serif\" font-size=\"14.00\">gini = 0.0</text>\n",
       "<text text-anchor=\"middle\" x=\"278\" y=\"-268.3\" font-family=\"Helvetica,sans-Serif\" font-size=\"14.00\">samples = 449</text>\n",
       "<text text-anchor=\"middle\" x=\"278\" y=\"-253.3\" font-family=\"Helvetica,sans-Serif\" font-size=\"14.00\">value = [449, 0]</text>\n",
       "<text text-anchor=\"middle\" x=\"278\" y=\"-238.3\" font-family=\"Helvetica,sans-Serif\" font-size=\"14.00\">class = Bajo</text>\n",
       "</g>\n",
       "<!-- 2&#45;&gt;8 -->\n",
       "<g id=\"edge8\" class=\"edge\">\n",
       "<title>2&#45;&gt;8</title>\n",
       "<path fill=\"none\" stroke=\"black\" d=\"M230.98,-341.91C237.84,-330.76 245.29,-318.66 252.19,-307.44\"/>\n",
       "<polygon fill=\"black\" stroke=\"black\" points=\"255.33,-309.02 257.59,-298.67 249.37,-305.35 255.33,-309.02\"/>\n",
       "</g>\n",
       "<!-- 4 -->\n",
       "<g id=\"node5\" class=\"node\">\n",
       "<title>4</title>\n",
       "<polygon fill=\"none\" stroke=\"black\" points=\"116.5,-179.5 7.5,-179.5 7.5,-111.5 116.5,-111.5 116.5,-179.5\"/>\n",
       "<text text-anchor=\"middle\" x=\"62\" y=\"-164.3\" font-family=\"Helvetica,sans-Serif\" font-size=\"14.00\">gini = 0.0</text>\n",
       "<text text-anchor=\"middle\" x=\"62\" y=\"-149.3\" font-family=\"Helvetica,sans-Serif\" font-size=\"14.00\">samples = 113</text>\n",
       "<text text-anchor=\"middle\" x=\"62\" y=\"-134.3\" font-family=\"Helvetica,sans-Serif\" font-size=\"14.00\">value = [113, 0]</text>\n",
       "<text text-anchor=\"middle\" x=\"62\" y=\"-119.3\" font-family=\"Helvetica,sans-Serif\" font-size=\"14.00\">class = Bajo</text>\n",
       "</g>\n",
       "<!-- 3&#45;&gt;4 -->\n",
       "<g id=\"edge4\" class=\"edge\">\n",
       "<title>3&#45;&gt;4</title>\n",
       "<path fill=\"none\" stroke=\"black\" d=\"M109.02,-222.91C102.16,-211.76 94.71,-199.66 87.81,-188.44\"/>\n",
       "<polygon fill=\"black\" stroke=\"black\" points=\"90.63,-186.35 82.41,-179.67 84.67,-190.02 90.63,-186.35\"/>\n",
       "</g>\n",
       "<!-- 5 -->\n",
       "<g id=\"node6\" class=\"node\">\n",
       "<title>5</title>\n",
       "<polygon fill=\"none\" stroke=\"black\" points=\"277,-187 135,-187 135,-104 277,-104 277,-187\"/>\n",
       "<text text-anchor=\"middle\" x=\"206\" y=\"-171.8\" font-family=\"Helvetica,sans-Serif\" font-size=\"14.00\">over_time &lt;= 6360.0</text>\n",
       "<text text-anchor=\"middle\" x=\"206\" y=\"-156.8\" font-family=\"Helvetica,sans-Serif\" font-size=\"14.00\">gini = 0.022</text>\n",
       "<text text-anchor=\"middle\" x=\"206\" y=\"-141.8\" font-family=\"Helvetica,sans-Serif\" font-size=\"14.00\">samples = 89</text>\n",
       "<text text-anchor=\"middle\" x=\"206\" y=\"-126.8\" font-family=\"Helvetica,sans-Serif\" font-size=\"14.00\">value = [88, 1]</text>\n",
       "<text text-anchor=\"middle\" x=\"206\" y=\"-111.8\" font-family=\"Helvetica,sans-Serif\" font-size=\"14.00\">class = Bajo</text>\n",
       "</g>\n",
       "<!-- 3&#45;&gt;5 -->\n",
       "<g id=\"edge5\" class=\"edge\">\n",
       "<title>3&#45;&gt;5</title>\n",
       "<path fill=\"none\" stroke=\"black\" d=\"M158.98,-222.91C164.4,-214.1 170.18,-204.7 175.78,-195.61\"/>\n",
       "<polygon fill=\"black\" stroke=\"black\" points=\"178.8,-197.37 181.06,-187.02 172.84,-193.7 178.8,-197.37\"/>\n",
       "</g>\n",
       "<!-- 6 -->\n",
       "<g id=\"node7\" class=\"node\">\n",
       "<title>6</title>\n",
       "<polygon fill=\"none\" stroke=\"black\" points=\"194.5,-68 99.5,-68 99.5,0 194.5,0 194.5,-68\"/>\n",
       "<text text-anchor=\"middle\" x=\"147\" y=\"-52.8\" font-family=\"Helvetica,sans-Serif\" font-size=\"14.00\">gini = 0.198</text>\n",
       "<text text-anchor=\"middle\" x=\"147\" y=\"-37.8\" font-family=\"Helvetica,sans-Serif\" font-size=\"14.00\">samples = 9</text>\n",
       "<text text-anchor=\"middle\" x=\"147\" y=\"-22.8\" font-family=\"Helvetica,sans-Serif\" font-size=\"14.00\">value = [8, 1]</text>\n",
       "<text text-anchor=\"middle\" x=\"147\" y=\"-7.8\" font-family=\"Helvetica,sans-Serif\" font-size=\"14.00\">class = Bajo</text>\n",
       "</g>\n",
       "<!-- 5&#45;&gt;6 -->\n",
       "<g id=\"edge6\" class=\"edge\">\n",
       "<title>5&#45;&gt;6</title>\n",
       "<path fill=\"none\" stroke=\"black\" d=\"M184.03,-103.73C179.36,-95.06 174.42,-85.9 169.73,-77.18\"/>\n",
       "<polygon fill=\"black\" stroke=\"black\" points=\"172.77,-75.44 164.94,-68.3 166.6,-78.76 172.77,-75.44\"/>\n",
       "</g>\n",
       "<!-- 7 -->\n",
       "<g id=\"node8\" class=\"node\">\n",
       "<title>7</title>\n",
       "<polygon fill=\"none\" stroke=\"black\" points=\"315,-68 213,-68 213,0 315,0 315,-68\"/>\n",
       "<text text-anchor=\"middle\" x=\"264\" y=\"-52.8\" font-family=\"Helvetica,sans-Serif\" font-size=\"14.00\">gini = 0.0</text>\n",
       "<text text-anchor=\"middle\" x=\"264\" y=\"-37.8\" font-family=\"Helvetica,sans-Serif\" font-size=\"14.00\">samples = 80</text>\n",
       "<text text-anchor=\"middle\" x=\"264\" y=\"-22.8\" font-family=\"Helvetica,sans-Serif\" font-size=\"14.00\">value = [80, 0]</text>\n",
       "<text text-anchor=\"middle\" x=\"264\" y=\"-7.8\" font-family=\"Helvetica,sans-Serif\" font-size=\"14.00\">class = Bajo</text>\n",
       "</g>\n",
       "<!-- 5&#45;&gt;7 -->\n",
       "<g id=\"edge7\" class=\"edge\">\n",
       "<title>5&#45;&gt;7</title>\n",
       "<path fill=\"none\" stroke=\"black\" d=\"M227.6,-103.73C232.19,-95.06 237.04,-85.9 241.66,-77.18\"/>\n",
       "<polygon fill=\"black\" stroke=\"black\" points=\"244.77,-78.77 246.36,-68.3 238.59,-75.5 244.77,-78.77\"/>\n",
       "</g>\n",
       "</g>\n",
       "</svg>\n"
      ],
      "text/plain": [
       "<graphviz.sources.Source at 0x1f674c167d0>"
      ]
     },
     "execution_count": 23,
     "metadata": {},
     "output_type": "execute_result"
    }
   ],
   "source": [
    "from sklearn.tree import export_graphviz\n",
    "import graphviz\n",
    "\n",
    "# Exportar el árbol de decisión a un archivo .dot\n",
    "dot_data = export_graphviz(decision_tree_model, out_file=None, \n",
    "                           feature_names=X_train.columns,  \n",
    "                           class_names=['Bajo', 'Alto'])\n",
    "\n",
    "# Crear y mostrar el diagrama del árbol\n",
    "graph = graphviz.Source(dot_data)  \n",
    "graph"
   ]
  },
  {
   "cell_type": "markdown",
   "id": "7e78f28f",
   "metadata": {},
   "source": [
    "3. Realizar las predicciones sobre la base de prueba. Calcule la precisión (accuracy) sobre los datos de prueba."
   ]
  },
  {
   "cell_type": "code",
   "execution_count": 24,
   "id": "d12a1040",
   "metadata": {},
   "outputs": [
    {
     "name": "stdout",
     "output_type": "stream",
     "text": [
      "Columnas usadas en el entrenamiento: Index(['no_of_workers', 'over_time'], dtype='object')\n",
      "\n",
      "Precisión del modelo sobre los datos de prueba: 1.0\n"
     ]
    }
   ],
   "source": [
    "# Imprimir las columnas usadas en el entrenamiento para verificar\n",
    "print(\"Columnas usadas en el entrenamiento:\", X_train.columns)\n",
    "\n",
    "# Asegurarse de que X_test contenga solo las columnas usadas en X_train\n",
    "X_test = test_data[X_train.columns]  # Ajustar X_test para que coincida con X_train\n",
    "\n",
    "# Realizar predicciones sobre los datos de prueba usando el modelo correcto\n",
    "y_test_pred = decision_tree_model.predict(X_test)\n",
    "\n",
    "# Calcular la precisión (accuracy) sobre los datos de prueba\n",
    "accuracy_test = accuracy_score(y_test, y_test_pred)\n",
    "print(\"\\nPrecisión del modelo sobre los datos de prueba:\", accuracy_test)"
   ]
  },
  {
   "cell_type": "code",
   "execution_count": null,
   "id": "a0c84d5c",
   "metadata": {},
   "outputs": [],
   "source": []
  },
  {
   "cell_type": "code",
   "execution_count": 29,
   "id": "cd9b1ad3",
   "metadata": {},
   "outputs": [
    {
     "name": "stdout",
     "output_type": "stream",
     "text": [
      "Specificity Regresión Logística: 1.0\n",
      "Specificity KNN: 0.7638888888888888\n",
      "Specificity Árbol de Decisión: 1.0\n"
     ]
    }
   ],
   "source": [
    "import pandas as pd\n",
    "from sklearn.model_selection import train_test_split\n",
    "from sklearn.linear_model import LogisticRegression\n",
    "from sklearn.neighbors import KNeighborsClassifier\n",
    "from sklearn.tree import DecisionTreeClassifier\n",
    "from sklearn.metrics import confusion_matrix, accuracy_score, precision_score, recall_score, f1_score\n",
    "\n",
    "# Cargar datos\n",
    "file_path = r'D:\\Erika Monroy\\Desarrollo\\Machine Learning\\Fase 3\\Anexo 2 - productividad_confeccion.csv'  # Cambia esta ruta por la correcta\n",
    "data = pd.read_csv(file_path)\n",
    "\n",
    "# Crear la variable 'nivel_productividad'\n",
    "data['nivel_productividad'] = data['actual_productivity'].apply(lambda x: 'Alto' if x > 0.7 else 'Bajo')\n",
    "\n",
    "# Dividir los datos en conjuntos de entrenamiento y prueba (80% entrenamiento, 20% prueba)\n",
    "train_data, test_data = train_test_split(data, test_size=0.2, random_state=42)\n",
    "\n",
    "# Definir las características (features) y la variable objetivo\n",
    "X_train = train_data[['no_of_workers', 'over_time']]\n",
    "y_train = train_data['nivel_productividad']\n",
    "X_test = test_data[['no_of_workers', 'over_time']]\n",
    "y_test = test_data['nivel_productividad']\n",
    "\n",
    "# Modelo de Regresión Logística\n",
    "logistic_model = LogisticRegression()\n",
    "logistic_model.fit(X_train, y_train)\n",
    "y_pred_logistic = logistic_model.predict(X_test)\n",
    "\n",
    "# Modelo KNN\n",
    "knn_model = KNeighborsClassifier(n_neighbors=5)\n",
    "knn_model.fit(X_train, y_train)\n",
    "y_pred_knn = knn_model.predict(X_test)\n",
    "\n",
    "# Modelo de Árbol de Decisión\n",
    "decision_tree_model = DecisionTreeClassifier(random_state=42)\n",
    "decision_tree_model.fit(X_train, y_train)\n",
    "y_pred_tree = decision_tree_model.predict(X_test)\n",
    "\n",
    "# Matrices de confusión para cada modelo\n",
    "cm_logistic = confusion_matrix(y_test, y_pred_logistic, labels=[\"Bajo\", \"Alto\"])\n",
    "cm_knn = confusion_matrix(y_test, y_pred_knn, labels=[\"Bajo\", \"Alto\"])\n",
    "cm_tree = confusion_matrix(y_test, y_pred_tree, labels=[\"Bajo\", \"Alto\"])\n",
    "\n",
    "# Función para calcular la especificidad\n",
    "def calcular_specificity(cm):\n",
    "    tn, fp, fn, tp = cm.ravel()\n",
    "    return tn / (tn + fp)\n",
    "\n",
    "# Calcular la especificidad para cada modelo\n",
    "specificity_logistic = calcular_specificity(cm_logistic)\n",
    "specificity_knn = calcular_specificity(cm_knn)\n",
    "specificity_tree = calcular_specificity(cm_tree)\n",
    "\n",
    "print(f\"Specificity Regresión Logística: {specificity_logistic}\")\n",
    "print(f\"Specificity KNN: {specificity_knn}\")\n",
    "print(f\"Specificity Árbol de Decisión: {specificity_tree}\")"
   ]
  },
  {
   "cell_type": "markdown",
   "id": "6d2894b0",
   "metadata": {},
   "source": [
    "## Conclusiones\n",
    "\n",
    "   - Se ha observado que los modelos lineales, como la regresión lineal, pueden ser útiles para capturar relaciones lineales entre las variables predictoras y la productividad real. Sin embargo, estos modelos pueden ser limitados para capturar relaciones no lineales y complejidades en los datos.\n",
    "   - Los modelos más avanzados, como el modelo logístico y los árboles de decisión, ofrecen una mayor flexibilidad para capturar relaciones no lineales y patrones complejos en los datos. Esto se reflejó en una mejora en la precisión de las predicciones, especialmente al distinguir entre diferentes niveles de productividad.\n",
    "   - El método K-NN también demostró ser efectivo para predecir el nivel de productividad en función de las características del equipo de trabajo y el tiempo extra. Sin embargo, su desempeño puede depender en gran medida de la selección adecuada de parámetros, como el número de vecinos.\n",
    "   - Durante este proceso, se adquirieron y aplicaron habilidades en preprocesamiento de datos, entrenamiento de modelos de aprendizaje automático y evaluación de su desempeño.\n",
    "   - Se ha ganado experiencia en la selección de modelos apropiados para diferentes tipos de datos y problemas de predicción.\n",
    "   - La visualización de modelos, como los árboles de decisión, utilizando herramientas como Graphviz, ayudó a comprender mejor el proceso de toma de decisiones de los modelos.\n",
    "   - Se logró desarrollar un conjunto diverso de modelos predictivos que pueden ser utilizados por profesionales de la industria textil para mejorar la planificación y gestión de la producción.\n",
    "   - La precisión obtenida en las predicciones sobre la base de prueba sugiere que los modelos pueden ser efectivos para predecir la productividad en condiciones similares a las del conjunto de datos utilizado.\n",
    "   - Estos modelos pueden proporcionar información valiosa para optimizar la asignación de recursos, mejorar la eficiencia operativa y aumentar la productividad en el sector de la confección textil.\n",
    "\n",
    "Este trabajo ha proporcionado una visión integral del proceso de desarrollo, entrenamiento y evaluación de modelos predictivos para predecir la productividad en la industria de la confección textil, destacando la importancia de utilizar enfoques avanzados de aprendizaje automático para capturar la complejidad de los datos y mejorar la precisión de las predicciones."
   ]
  },
  {
   "cell_type": "markdown",
   "id": "2a94e580",
   "metadata": {},
   "source": [
    "## Referencias Bibliográficas\n",
    "\n",
    "**1.** Kane, F. (2017). Hands-On Data Science and Python Machine Learning. Packt Publishing. (pp. 183-195).\n",
    "\n",
    "**2.** Raschka, S., & Mirjalili, V. (2017). Python Machine Learning - Second Edition: Vol. 2nd ed. Packt Publishing. (pp. 90-103)."
   ]
  }
 ],
 "metadata": {
  "kernelspec": {
   "display_name": "Python 3 (ipykernel)",
   "language": "python",
   "name": "python3"
  },
  "language_info": {
   "codemirror_mode": {
    "name": "ipython",
    "version": 3
   },
   "file_extension": ".py",
   "mimetype": "text/x-python",
   "name": "python",
   "nbconvert_exporter": "python",
   "pygments_lexer": "ipython3",
   "version": "3.11.5"
  }
 },
 "nbformat": 4,
 "nbformat_minor": 5
}
